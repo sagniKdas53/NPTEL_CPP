{
 "cells": [
  {
   "cell_type": "code",
   "execution_count": 1,
   "metadata": {},
   "outputs": [],
   "source": [
    "list_to_chk = [1, int(2.0), 2.0, float(2),\n",
    "               1/2, 1.0/2, 2.0/1,1//2,1.0//2,1//2.0,12//6,\n",
    "               True, False, bool(5),\n",
    "               1+5j, 4j,\n",
    "               range(2),\n",
    "               bytes(5), bytearray(6), \n",
    "               'd', \"d\", \"\"\"d\"\"\", ]"
   ]
  },
  {
   "cell_type": "code",
   "execution_count": 2,
   "metadata": {},
   "outputs": [
    {
     "name": "stdout",
     "output_type": "stream",
     "text": [
      "[1, 2, 2.0, 2.0, 0.5, 0.5, 2.0, 0, 0.0, 0.0, 2, True, False, True, (1+5j), 4j, range(0, 2), b'\\x00\\x00\\x00\\x00\\x00', bytearray(b'\\x00\\x00\\x00\\x00\\x00\\x00'), 'd', 'd', 'd'] <class 'list'>\n",
      "1 <class 'int'>\n",
      "2 <class 'int'>\n",
      "2.0 <class 'float'>\n",
      "2.0 <class 'float'>\n",
      "0.5 <class 'float'>\n",
      "0.5 <class 'float'>\n",
      "2.0 <class 'float'>\n",
      "0 <class 'int'>\n",
      "0.0 <class 'float'>\n",
      "0.0 <class 'float'>\n",
      "2 <class 'int'>\n",
      "True <class 'bool'>\n",
      "False <class 'bool'>\n",
      "True <class 'bool'>\n",
      "(1+5j) <class 'complex'>\n",
      "4j <class 'complex'>\n",
      "range(0, 2) <class 'range'>\n",
      "b'\\x00\\x00\\x00\\x00\\x00' <class 'bytes'>\n",
      "bytearray(b'\\x00\\x00\\x00\\x00\\x00\\x00') <class 'bytearray'>\n",
      "d <class 'str'>\n",
      "d <class 'str'>\n",
      "d <class 'str'>\n"
     ]
    }
   ],
   "source": [
    "print(list_to_chk, type(list_to_chk))\n",
    "\n",
    "for ele in list_to_chk:\n",
    "    print(ele, type(ele))"
   ]
  },
  {
   "cell_type": "code",
   "execution_count": 4,
   "metadata": {},
   "outputs": [
    {
     "name": "stdout",
     "output_type": "stream",
     "text": [
      "b'\\x00\\x00\\x00\\x00\\x00\\x00\\x00\\x00\\x00\\x00\\x00\\x00'\n"
     ]
    }
   ],
   "source": [
    "test = bytes(12)\n",
    "\n",
    "print(test)"
   ]
  },
  {
   "cell_type": "code",
   "execution_count": 5,
   "metadata": {},
   "outputs": [
    {
     "name": "stdout",
     "output_type": "stream",
     "text": [
      "b'\\x00\\x00\\x00\\x00\\x00\\x00\\x00\\x00\\x00\\x00\\x00\\x00'\n"
     ]
    }
   ],
   "source": [
    "data = 12\n",
    "test2 = bytes(data)\n",
    "print(test2)"
   ]
  },
  {
   "cell_type": "code",
   "execution_count": 7,
   "metadata": {},
   "outputs": [
    {
     "name": "stdout",
     "output_type": "stream",
     "text": [
      "b'12'\n"
     ]
    }
   ],
   "source": [
    "data = \"12\"\n",
    "test2 = bytes(data,'utf-8')\n",
    "print(test2)"
   ]
  },
  {
   "cell_type": "code",
   "execution_count": 8,
   "metadata": {
    "scrolled": true
   },
   "outputs": [
    {
     "name": "stdout",
     "output_type": "stream",
     "text": [
      "b'12'\n"
     ]
    }
   ],
   "source": [
    "data = \"12\"\n",
    "test2 = bytes(data,'ascii')\n",
    "print(test2)"
   ]
  },
  {
   "cell_type": "code",
   "execution_count": 10,
   "metadata": {},
   "outputs": [
    {
     "name": "stdout",
     "output_type": "stream",
     "text": [
      "b'\\xe0\\xb6\\x9e'\n"
     ]
    }
   ],
   "source": [
    "sus = \"ඞ\"\n",
    "verysus = bytes(sus,'utf-8')#'ascii')\n",
    "print(verysus)"
   ]
  },
  {
   "cell_type": "code",
   "execution_count": null,
   "metadata": {},
   "outputs": [],
   "source": []
  }
 ],
 "metadata": {
  "kernelspec": {
   "display_name": "Python 3",
   "language": "python",
   "name": "python3"
  },
  "language_info": {
   "codemirror_mode": {
    "name": "ipython",
    "version": 3
   },
   "file_extension": ".py",
   "mimetype": "text/x-python",
   "name": "python",
   "nbconvert_exporter": "python",
   "pygments_lexer": "ipython3",
   "version": "3.8.10"
  }
 },
 "nbformat": 4,
 "nbformat_minor": 4
}
