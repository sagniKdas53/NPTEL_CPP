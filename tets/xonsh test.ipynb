{
 "cells": [
  {
   "cell_type": "code",
   "execution_count": 1,
   "metadata": {},
   "outputs": [
    {
     "name": "stdout",
     "output_type": "stream",
     "text": [
      "\u001b[0m\u001b[1;34mTCS-POI_2122\u001b[0m     \u001b[1;32ma.out\u001b[0m        bwise.c          eon.cpp     postfix.cpp    shiftAndNot.c  strucTTest.c   voidTest.cpp\n",
      "Untitled.ipynb   adslot.py    bytess.py        gameSet.py  resize.cpp     split.cpp      types_test.py\n",
      "Untitled1.ipynb  arggg.c      discreteloop.py  hcf.py      rev_stack.cpp  strScan.c      typists.py\n",
      "Untitled-1.txt   arrpass.cpp  enam.c           lcm.py      rotate.cpp     stri1.cpp      vectot.cpp\n",
      "\n"
     ]
    }
   ],
   "source": [
    "ls"
   ]
  },
  {
   "cell_type": "code",
   "execution_count": 6,
   "metadata": {},
   "outputs": [
    {
     "name": "stdout",
     "output_type": "stream",
     "text": [
      "['.ipynb_checkpoints', 'TCS-POI_2122', 'Untitled-1.txt', 'Untitled.ipynb', 'Untitled1.ipynb', 'a.out', 'adslot.py', 'arggg.c', 'arrpass.cpp', 'bwise.c', 'bytess.py', 'discreteloop.py', 'enam.c', 'eon.cpp', 'gameSet.py', 'hcf.py', 'lcm.py', 'postfix.cpp', 'resize.cpp', 'rev_stack.cpp', 'rotate.cpp', 'shiftAndNot.c', 'split.cpp', 'strScan.c', 'stri1.cpp', 'strucTTest.c', 'types_test.py', 'typists.py', 'vectot.cpp', 'voidTest.cpp']\n"
     ]
    }
   ],
   "source": [
    "gets = `.*`\n",
    "print(gets)"
   ]
  },
  {
   "cell_type": "code",
   "execution_count": 5,
   "metadata": {},
   "outputs": [
    {
     "name": "stdout",
     "output_type": "stream",
     "text": [
      ".ipynb_checkpoints\n",
      "TCS-POI_2122\n",
      "Untitled-1.txt\n",
      "Untitled.ipynb\n",
      "Untitled1.ipynb\n",
      "a.out\n",
      "adslot.py\n",
      "arggg.c\n",
      "arrpass.cpp\n",
      "bwise.c\n",
      "bytess.py\n",
      "discreteloop.py\n",
      "enam.c\n",
      "eon.cpp\n",
      "gameSet.py\n",
      "hcf.py\n",
      "lcm.py\n",
      "postfix.cpp\n",
      "resize.cpp\n",
      "rev_stack.cpp\n",
      "rotate.cpp\n",
      "shiftAndNot.c\n",
      "split.cpp\n",
      "strScan.c\n",
      "stri1.cpp\n",
      "strucTTest.c\n",
      "types_test.py\n",
      "typists.py\n",
      "vectot.cpp\n",
      "voidTest.cpp\n"
     ]
    }
   ],
   "source": [
    "for filename in `.*`:\n",
    "    print(filename)"
   ]
  }
 ],
 "metadata": {
  "kernelspec": {
   "display_name": "Xonsh",
   "language": "xonsh",
   "name": "xonsh"
  },
  "language_info": {
   "codemirror_mode": "shell",
   "file_extension": ".xsh",
   "mimetype": "text/x-sh",
   "name": "xonsh",
   "pygments_lexer": "xonsh",
   "version": "0.9.13"
  }
 },
 "nbformat": 4,
 "nbformat_minor": 4
}
